{
 "cells": [
  {
   "cell_type": "code",
   "execution_count": 2,
   "metadata": {},
   "outputs": [],
   "source": [
    "import pandas as pd\n",
    "import numpy as np"
   ]
  },
  {
   "cell_type": "code",
   "execution_count": 3,
   "metadata": {},
   "outputs": [],
   "source": [
    "data = pd.read_csv('incidents_datasets.csv', sep = '|')"
   ]
  },
  {
   "cell_type": "markdown",
   "metadata": {},
   "source": [
    "### For each attribute identify the attribute-domain using only the available information in the dataset. [2 points]\n"
   ]
  },
  {
   "cell_type": "code",
   "execution_count": 4,
   "metadata": {},
   "outputs": [
    {
     "name": "stdout",
     "output_type": "stream",
     "text": [
      "Showing 30 first domains for each attribute...\n",
      "\n",
      "Attribute is alert_ids, domain: ['AAB' 'AAC' 'AAE' 'AAL' 'AAP' 'AAb' 'AAe' 'AAf' 'AAh' 'AAl' 'AAp' 'AAy'\n",
      " 'AAz' 'ABD' 'ABI' 'ABJ' 'ABL' 'ABT' 'ABd' 'ABf' 'ABg' 'ABi' 'ABl' 'ABo'\n",
      " 'ABy' 'ACA' 'ACB' 'ACC' 'ACE' 'ACI']\n",
      "Attribute is client_code, domain: ['ADX' 'AHJ' 'AHS' 'AIM' 'ALV' 'AMC' 'ASV' 'AVD' 'AYP' 'BBC' 'BCX' 'BFK'\n",
      " 'BHD' 'BIP' 'BJG' 'BKQ' 'BKR' 'BMT' 'BMU' 'BQW' 'BTD' 'BUQ' 'BUW' 'BXI'\n",
      " 'BYA' 'CEF' 'CHP' 'CJR' 'CKM' 'CPJ']\n",
      "Attribute is notified, domain: [0 1]\n",
      "Attribute is categoryname, domain: ['Attack' 'Attack Preparation' 'Compromise' 'Control and Maintain'\n",
      " 'Exploit' 'Malicious Activity' 'Reconnaissance'\n",
      " 'Suspicious Account Activity' 'Suspicious Network Activity'\n",
      " 'Suspicious Reputation' 'To Be Determined']\n",
      "Attribute is ip, domain: ['10.AA.AE.6' '10.AA.CC.70' '10.AA.EM.23' '10.AA.EM.28' '10.AA.FN.3'\n",
      " '10.AA.FN.32' '10.AA.FN.40' '10.AA.FN.8' '10.AA.GS.16' '10.AA.GS.21'\n",
      " '10.AA.IP.121' '10.AA.IP.146' '10.AA.IP.15' '10.AA.IU.23' '10.AA.IU.38'\n",
      " '10.AA.KJ.102' '10.AA.KJ.26' '10.AA.KJ.43' '10.AA.KJ.81' '10.AA.RJ.15'\n",
      " '10.AA.RJ.39' '10.AA.VL.31' '10.AA.VL.68' '10.AA.XK.49' '10.AA.XK.7'\n",
      " '10.AG.GO.105' '10.AG.GO.122' '10.AK.CF.39' '10.AK.FN.10' '10.AK.IT.120']\n",
      "Attribute is ipcategory_name, domain: ['BROADCAST' 'INTERNET' 'LINK-LOCAL' 'LOOPBACK' 'MULTICAST' 'PRIV-10'\n",
      " 'PRIV-172' 'PRIV-192' 'PRIV-CGN']\n",
      "Attribute is ipcategory_scope, domain: ['Host' 'Internet' 'Private network' 'Subnet']\n",
      "Attribute is parent_category, domain: [1 3 4 5 7]\n",
      "Attribute is grandparent_category, domain: ['A' 'B']\n",
      "Attribute is overallseverity, domain: [1 2 3 4 5]\n",
      "Attribute is timestamp_dist, domain: [ 0  1  2  3  4  5  6  7  8  9 10 11 12 13 14 15 16 17 18 19 20 21 22 23\n",
      " 24 25 26 27 28 29]\n",
      "Attribute is start_hour, domain: [ 0  1  2  3  4  5  6  7  8  9 10 11 12 13 14 15 16 17 18 19 20 21 22 23]\n",
      "Attribute is start_minute, domain: [ 0  1  2  3  4  5  6  7  8  9 10 11 12 13 14 15 16 17 18 19 20 21 22 23\n",
      " 24 25 26 27 28 29]\n",
      "Attribute is start_second, domain: [ 0  1  2  3  4  5  6  7  8  9 10 11 12 13 14 15 16 17 18 19 20 21 22 23\n",
      " 24 25 26 27 28 29]\n",
      "Attribute is weekday, domain: ['Fri' 'Mon' 'Sat' 'Sun' 'Thu' 'Tue' 'Wed']\n",
      "Attribute is correlatedcount, domain: [ 1  2  3  4  5  6  7  8  9 10 11 12 13 14 15 16 17 18 19 20 21 22 23 24\n",
      " 25 26 27 28 29 30]\n",
      "Attribute is n1, domain: [0. 1.]\n",
      "Attribute is n2, domain: [0. 1.]\n",
      "Attribute is n3, domain: [0. 1.]\n",
      "Attribute is n4, domain: [0. 1.]\n",
      "Attribute is n5, domain: [0. 1.]\n",
      "Attribute is n6, domain: [0. 1.]\n",
      "Attribute is n7, domain: [0.]\n",
      "Attribute is n8, domain: [0.]\n",
      "Attribute is n9, domain: [0. 1.]\n",
      "Attribute is n10, domain: [0.]\n",
      "Attribute is score, domain: [0. 1. 2. 3. 4. 5. 6. 7.]\n",
      "Attribute is srcip_cd, domain: [ 0  1  2  3  4  5  6  7  8  9 10 11 12 13 14 15 16 17 18 19 20 21 22 23\n",
      " 24 25 26 27 28 29]\n",
      "Attribute is dstip_cd, domain: [ 0  1  2  3  4  5  6  7  8  9 10 11 12 13 14 15 16 17 18 19 20 21 22 23\n",
      " 24 25 26 27 28 29]\n",
      "Attribute is srcport_cd, domain: [ 0  1  2  3  4  5  6  7  8  9 10 11 12 13 14 15 16 17 18 19 20 21 22 23\n",
      " 24 25 26 27 28 29]\n",
      "Attribute is dstport_cd, domain: [ 0  1  2  3  4  5  6  7  8  9 10 11 12 13 14 15 16 17 18 19 20 21 22 23\n",
      " 24 25 26 27 28 29]\n",
      "Attribute is alerttype_cd, domain: [ 0  1  2  3  4  5  6  7 10]\n",
      "Attribute is direction_cd, domain: [0 1 2 3 5]\n",
      "Attribute is eventname_cd, domain: [0 1 2 3 4 5 6 7 8]\n",
      "Attribute is severity_cd, domain: [0 1 2 3 4 5]\n",
      "Attribute is reportingdevice_cd, domain: [ 0  1  2  3  4  5  6  7  8  9 10 11 12 13 14 15 16 17 18 19 20 21 22 23\n",
      " 24 25 26 30 36 46]\n",
      "Attribute is devicetype_cd, domain: [0 1 2 3 4 5]\n",
      "Attribute is devicevendor_cd, domain: [0 1 2 3 4 7]\n",
      "Attribute is domain_cd, domain: [ 0  1  2  3  4  5  6  7  8  9 10 11 12 13 14 15 16 17 18 19 20 21 22 23\n",
      " 25 26 27 29 30 31]\n",
      "Attribute is protocol_cd, domain: [   0    1    2    3    4    5    6    8    9   11   13   14   42  881\n",
      " 1077 1277 1302]\n",
      "Attribute is username_cd, domain: [ 0  1  2  3  4  5  6  7  8  9 10 11 12 13 14 15 16 17 18 19 20 21 22 23\n",
      " 24 25 26 27 28 29]\n",
      "Attribute is srcipcategory_cd, domain: [0 1 2 3 4]\n",
      "Attribute is dstipcategory_cd, domain: [0 1 2 3 4]\n",
      "Attribute is isiptrusted, domain: [0 1]\n",
      "Attribute is untrustscore, domain: [1 2 3 4 5]\n",
      "Attribute is flowscore, domain: [3 4 5]\n",
      "Attribute is trustscore, domain: [1 2 3 4 5]\n",
      "Attribute is enforcementscore, domain: [-1  0]\n",
      "Attribute is dstipcategory_dominate, domain: ['BROADCAST' 'CURR_NET' 'INTERNET' 'LOOPBACK' 'MULTICAST' 'PRIV-10'\n",
      " 'PRIV-172' 'PRIV-192' 'PRIV-CGN']\n",
      "Attribute is srcipcategory_dominate, domain: ['INTERNET' 'LINK-LOCAL' 'LOOPBACK' 'PRIV-10' 'PRIV-172' 'PRIV-192'\n",
      " 'PRIV-CGN']\n",
      "Attribute is dstportcategory_dominate, domain: [0 1 2 3 4]\n",
      "Attribute is srcportcategory_dominate, domain: [0 1 2 3 4]\n",
      "Attribute is thrcnt_month, domain: [ 1  2  3  4  5  6  7  8  9 10 11 12 13 14 15 16 17 18 19 20 21 22 23 24\n",
      " 25 26 27 28 29 30]\n",
      "Attribute is thrcnt_week, domain: [ 1  2  3  4  5  6  7  8  9 10 11 12 13 14 15 16 17 18 19 20 21 22 23 24\n",
      " 25 26 27 28 29 30]\n",
      "Attribute is thrcnt_day, domain: [ 1  2  3  4  5  6  7  8  9 10 11 12 13 14 15 16 17 18 19 20 21 22 23 24\n",
      " 25 26 27 28 29 30]\n",
      "Attribute is p6, domain: [ 0  1  2  3  4  5  6  7 10]\n",
      "Attribute is p9, domain: [ 0  1  2  3  4  5  6  7  8  9 10 11 12 13 14 15 16 17 18 19 20 21 22 23\n",
      " 24 25 26 28 29 31]\n",
      "Attribute is p5m, domain: [1 2 3 4 5]\n",
      "Attribute is p5w, domain: [1 2 3 4]\n",
      "Attribute is p5d, domain: [1 2 3 4]\n",
      "Attribute is p8m, domain: [1 2 3 4 5]\n",
      "Attribute is p8w, domain: [1 2 3 4 5]\n",
      "Attribute is p8d, domain: [1 2 3 4]\n"
     ]
    }
   ],
   "source": [
    "k = 30\n",
    "print('Showing {} first domains for each attribute...'.format(k) + '\\n')\n",
    "for col in data.columns:\n",
    "    print('Attribute is {}, domain: {}'.format(col, pd.Series(np.unique(data[col])[:k]).dropna().values))"
   ]
  },
  {
   "cell_type": "markdown",
   "metadata": {},
   "source": [
    "### Identify the top K essential attributes in your opinion and create a taxonomy to represent the attribute-domain in a hierarchical structure. [2 points]\n"
   ]
  },
  {
   "cell_type": "code",
   "execution_count": 25,
   "metadata": {},
   "outputs": [
    {
     "name": "stdout",
     "output_type": "stream",
     "text": [
      "Taxonomy for 4 most important domains...\n",
      "\n",
      "categoryname\n",
      "\tAttack\n",
      "\tAttack Preparation\n",
      "\tCompromise\n",
      "\tControl and Maintain\n",
      "\tExploit\n",
      "\tMalicious Activity\n",
      "\tReconnaissance\n",
      "\tSuspicious Account Activity\n",
      "\tSuspicious Network Activity\n",
      "\tSuspicious Reputation\n",
      "\tTo Be Determined\n",
      "srcipcategory_dominate\n",
      "\tINTERNET\n",
      "\tLINK-LOCAL\n",
      "\tLOOPBACK\n",
      "\tPRIV-10\n",
      "\tPRIV-172\n",
      "\tPRIV-192\n",
      "\tPRIV-CGN\n",
      "weekday\n",
      "\tFri\n",
      "\tMon\n",
      "\tSat\n",
      "\tSun\n",
      "\tThu\n",
      "\tTue\n",
      "\tWed\n",
      "ipcategory_scope\n",
      "\tHost\n",
      "\tInternet\n",
      "\tPrivate network\n",
      "\tSubnet\n"
     ]
    }
   ],
   "source": [
    "print('Taxonomy for 4 most important domains...' + '\\n')\n",
    "important_attributes = ['categoryname', 'srcipcategory_dominate', 'weekday', 'ipcategory_scope']\n",
    "for attr in important_attributes:\n",
    "    print(attr)\n",
    "    for value in np.unique(data[attr]):\n",
    "        print('\\t' + value)"
   ]
  },
  {
   "cell_type": "markdown",
   "metadata": {},
   "source": [
    "### Identify at least 5 explicit binary relations that could exist between two alert incidents. [2 points]\n"
   ]
  },
  {
   "cell_type": "code",
   "execution_count": 37,
   "metadata": {},
   "outputs": [
    {
     "name": "stdout",
     "output_type": "stream",
     "text": [
      "Client with code SBH is a target of attack with attribute p9 = 0\n",
      "Client with code FUD is a target of attack with attribute direction_cd = 0\n",
      "Client with code JID is a target of attack with attribute n7 = 0.0\n",
      "Client with code IJY is a target of attack with attribute p5d = 2\n",
      "Client with code RNY is a target of attack with attribute p9 = 0\n"
     ]
    }
   ],
   "source": [
    "for i in range(5):\n",
    "    data_client = data[data['notified'] == 1].sample(n = 1)\n",
    "    column = data_client.columns[np.random.randint(0, len(data_client.columns))]\n",
    "    print('Client with code {} is a target of attack with attribute {} = {}'.format(data_client['client_code'].iloc[0],\n",
    "                                                                                    column, data_client[column].iloc[0]))"
   ]
  },
  {
   "cell_type": "markdown",
   "metadata": {},
   "source": [
    "### d. Identify at least 2 N-ary relations that could exist between two or more alert incidents [2 points]\n"
   ]
  },
  {
   "cell_type": "code",
   "execution_count": 43,
   "metadata": {},
   "outputs": [
    {
     "name": "stdout",
     "output_type": "stream",
     "text": [
      "Client with code VQL is a target of attack with attribute ipcategory_name=PRIV-10 and attribute n1=nan and attribute severity_cd=0\n",
      "Client with code CHP is a target of attack with attribute n8=0.0 and attribute n9=0.0 and attribute thrcnt_day=3\n",
      "Client with code TFU is a target of attack with attribute trustscore=3 and attribute grandparent_category=A and attribute thrcnt_week=18\n",
      "Client with code QXG is a target of attack with attribute p9=0 and attribute reportingdevice_cd=0 and attribute p5m=2\n",
      "Client with code LHY is a target of attack with attribute grandparent_category=A and attribute p8d=1 and attribute reportingdevice_cd=1\n"
     ]
    }
   ],
   "source": [
    "for i in range(5):\n",
    "    data_client = data[data['notified'] == 1].sample(n = 1)\n",
    "    column1 = data_client.columns[np.random.randint(0, len(data_client.columns))]\n",
    "    column2 = data_client.columns[np.random.randint(0, len(data_client.columns))]\n",
    "    column3 = data_client.columns[np.random.randint(0, len(data_client.columns))]\n",
    "    print('Client with code {} is a target of attack with attribute {}={}\\\n",
    " and attribute {}={} and attribute {}={}'.format(data_client['client_code'].iloc[0],\n",
    "                                                       column1, data_client[column1].iloc[0],\n",
    "                                                       column2, data_client[column2].iloc[0],\n",
    "                                                       column3, data_client[column3].iloc[0]))"
   ]
  },
  {
   "cell_type": "code",
   "execution_count": null,
   "metadata": {},
   "outputs": [],
   "source": []
  }
 ],
 "metadata": {
  "kernelspec": {
   "display_name": "Python 3",
   "language": "python",
   "name": "python3"
  },
  "language_info": {
   "codemirror_mode": {
    "name": "ipython",
    "version": 3
   },
   "file_extension": ".py",
   "mimetype": "text/x-python",
   "name": "python",
   "nbconvert_exporter": "python",
   "pygments_lexer": "ipython3",
   "version": "3.7.3"
  }
 },
 "nbformat": 4,
 "nbformat_minor": 2
}
